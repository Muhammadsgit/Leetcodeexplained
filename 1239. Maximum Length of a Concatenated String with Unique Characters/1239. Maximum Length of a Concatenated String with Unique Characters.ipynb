{
 "cells": [
  {
   "cell_type": "markdown",
   "metadata": {},
   "source": [
    "1239. Maximum Length of a Concatenated String with Unique Characters\n",
    "\n",
    "You are given an array of strings arr. A string s is formed by the concatenation of a subsequence of arr that has unique characters.\n",
    "\n",
    "Return the maximum possible length of s.\n",
    "\n",
    "A subsequence is an array that can be derived from another array by deleting some or no elements without changing the order of the remaining elements.\n",
    "\n",
    " \n",
    "\n",
    "Example 1:\n",
    "\n",
    "Input: arr = [\"un\",\"iq\",\"ue\"]\n",
    "Output: 4\n",
    "Explanation: All the valid concatenations are:\n",
    "- \"\"\n",
    "- \"un\"\n",
    "- \"iq\"\n",
    "- \"ue\"\n",
    "- \"uniq\" (\"un\" + \"iq\")\n",
    "- \"ique\" (\"iq\" + \"ue\")\n",
    "Maximum length is 4.\n",
    "Example 2:\n",
    "\n",
    "Input: arr = [\"cha\",\"r\",\"act\",\"ers\"]\n",
    "Output: 6\n",
    "Explanation: Possible longest valid concatenations are \"chaers\" (\"cha\" + \"ers\") and \"acters\" (\"act\" + \"ers\").\n",
    "Example 3:\n",
    "\n",
    "Input: arr = [\"abcdefghijklmnopqrstuvwxyz\"]\n",
    "Output: 26\n",
    "Explanation: The only string in arr has all 26 characters.\n",
    " \n",
    "\n",
    "Constraints:\n",
    "\n",
    "1 <= arr.length <= 16\n",
    "1 <= arr[i].length <= 26\n",
    "arr[i] contains only lowercase English letters.\n"
   ]
  },
  {
   "cell_type": "code",
   "execution_count": null,
   "metadata": {},
   "outputs": [],
   "source": [
    "def maxLength(arr):\n",
    "    def backtrack(index, current):\n",
    "        \n",
    "        if index == len(arr):\n",
    "            return len(current)\n",
    "\n",
    "        \n",
    "        max_length = backtrack(index + 1, current)\n",
    "\n",
    "        \n",
    "        if len(set(arr[index])) == len(arr[index]) and not set(arr[index]) & set(current):\n",
    "            max_length = max(max_length, backtrack(index + 1, current + arr[index]))\n",
    "\n",
    "        return max_length\n",
    "\n",
    "    return backtrack(0, \"\")\n",
    "\n"
   ]
  }
 ],
 "metadata": {
  "language_info": {
   "name": "python"
  }
 },
 "nbformat": 4,
 "nbformat_minor": 2
}
