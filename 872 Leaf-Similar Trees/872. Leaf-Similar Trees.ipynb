{
 "cells": [
  {
   "cell_type": "markdown",
   "metadata": {},
   "source": [
    "872. Leaf-Similar Trees\n",
    "Easy\n",
    "\n",
    "Consider all the leaves of a binary tree, from left to right order, the values of those leaves form a leaf value sequence.\n",
    "\n",
    "\n",
    "\n",
    "For example, in the given tree above, the leaf value sequence is (6, 7, 4, 9, 8).\n",
    "\n",
    "Two binary trees are considered leaf-similar if their leaf value sequence is the same.\n",
    "\n",
    "Return true if and only if the two given trees with head nodes root1 and root2 are leaf-similar.\n",
    "\n",
    " \n",
    "\n",
    "Example 1:\n",
    "\n",
    "\n",
    "Input: root1 = [3,5,1,6,2,9,8,null,null,7,4], root2 = [3,5,1,6,7,4,2,null,null,null,null,null,null,9,8]\n",
    "Output: true\n",
    "Example 2:\n",
    "\n",
    "\n",
    "Input: root1 = [1,2,3], root2 = [1,3,2]\n",
    "Output: false\n",
    " \n",
    "\n",
    "Constraints:\n",
    "\n",
    "The number of nodes in each tree will be in the range [1, 200].\n",
    "Both of the given trees will have values in the range"
   ]
  },
  {
   "cell_type": "markdown",
   "metadata": {},
   "source": [
    "![Flow chart leet code 872 Leaf-Similar Trees](Flowchartleetcode872Leaf-SimilarTrees.png)\n",
    "\n"
   ]
  },
  {
   "cell_type": "code",
   "execution_count": 4,
   "metadata": {},
   "outputs": [],
   "source": [
    "# Definition for a binary tree node.\n",
    "# class TreeNode(object):\n",
    "#     def __init__(self, val=0, left=None, right=None):\n",
    "#         self.val = val\n",
    "#         self.left = left\n",
    "#         self.right = right\n",
    "class Solution(object):\n",
    "    def leafSimilar(self, root1, root2):\n",
    "        \"\"\"\n",
    "        :type root1: TreeNode\n",
    "        :type root2: TreeNode\n",
    "        :rtype: bool\n",
    "        \"\"\"\n",
    "        def dfs(root,leaf):\n",
    "            if not root:\n",
    "                return \n",
    "            if not root.left and not root.right:\n",
    "                leaf.append(root.val)\n",
    "                return        \n",
    "            dfs(root.left, leaf)\n",
    "            dfs(root.right, leaf)    \n",
    "        \n",
    "        leaf1, leaf2 =[],[]\n",
    "        dfs(root1, leaf1)\n",
    "        dfs(root2, leaf2)\n",
    "        return leaf1 == leaf2"
   ]
  }
 ],
 "metadata": {
  "kernelspec": {
   "display_name": "base",
   "language": "python",
   "name": "python3"
  },
  "language_info": {
   "codemirror_mode": {
    "name": "ipython",
    "version": 3
   },
   "file_extension": ".py",
   "mimetype": "text/x-python",
   "name": "python",
   "nbconvert_exporter": "python",
   "pygments_lexer": "ipython3",
   "version": "3.9.13"
  }
 },
 "nbformat": 4,
 "nbformat_minor": 2
}
