{
 "cells": [
  {
   "cell_type": "markdown",
   "metadata": {},
   "source": [
    "2864. Maximum Odd Binary Number\n",
    "\n",
    "You are given a binary string s that contains at least one '1'.\n",
    "\n",
    "You have to rearrange the bits in such a way that the resulting binary number is the maximum odd binary number that can be created from this combination.\n",
    "\n",
    "Return a string representing the maximum odd binary number that can be created from the given combination.\n",
    "\n",
    "Note that the resulting string can have leading zeros.\n",
    "\n",
    " \n",
    "\n",
    "Example 1:\n",
    "\n",
    "Input: s = \"010\"\n",
    "Output: \"001\"\n",
    "Explanation: Because there is just one '1', it must be in the last position. So the answer is \"001\".\n",
    "Example 2:\n",
    "\n",
    "Input: s = \"0101\"\n",
    "Output: \"1001\"\n",
    "Explanation: One of the '1's must be in the last position. The maximum number that can be made with the remaining digits is \"100\". So the answer is \"1001\"."
   ]
  },
  {
   "cell_type": "code",
   "execution_count": null,
   "metadata": {},
   "outputs": [],
   "source": []
  }
 ],
 "metadata": {
  "language_info": {
   "name": "python"
  }
 },
 "nbformat": 4,
 "nbformat_minor": 2
}
