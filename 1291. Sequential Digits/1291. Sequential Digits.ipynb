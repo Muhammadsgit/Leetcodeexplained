{
 "cells": [
  {
   "cell_type": "markdown",
   "metadata": {},
   "source": [
    "1291. Sequential Digits\n",
    "\n",
    "An integer has sequential digits if and only if each digit in the number is one more than the previous digit.\n",
    "\n",
    "Return a sorted list of all the integers in the range [low, high] inclusive that have sequential digits.\n",
    "\n",
    "Example 1:\n",
    "\n",
    "Input: low = 100, high = 300\n",
    "Output: [123,234]\n",
    "Example 2:\n",
    "\n",
    "Input: low = 1000, high = 13000\n",
    "Output: [1234,2345,3456,4567,5678,6789,12345]\n",
    "\n",
    "\n",
    "\n",
    " "
   ]
  },
  {
   "cell_type": "code",
   "execution_count": null,
   "metadata": {},
   "outputs": [],
   "source": []
  }
 ],
 "metadata": {
  "kernelspec": {
   "display_name": "base",
   "language": "python",
   "name": "python3"
  },
  "language_info": {
   "codemirror_mode": {
    "name": "ipython",
    "version": 3
   },
   "file_extension": ".py",
   "mimetype": "text/x-python",
   "name": "python",
   "nbconvert_exporter": "python",
   "pygments_lexer": "ipython3",
   "version": "3.9.13"
  }
 },
 "nbformat": 4,
 "nbformat_minor": 2
}
